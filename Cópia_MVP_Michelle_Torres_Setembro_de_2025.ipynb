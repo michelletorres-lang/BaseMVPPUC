{
  "nbformat": 4,
  "nbformat_minor": 0,
  "metadata": {
    "colab": {
      "provenance": [],
      "include_colab_link": true
    },
    "kernelspec": {
      "name": "python3",
      "display_name": "Python 3"
    },
    "language_info": {
      "name": "python"
    }
  },
  "cells": [
    {
      "cell_type": "markdown",
      "metadata": {
        "id": "view-in-github",
        "colab_type": "text"
      },
      "source": [
        "<a href=\"https://colab.research.google.com/github/michelletorres-lang/BaseMVPPUC/blob/main/C%C3%B3pia_MVP_Michelle_Torres_Setembro_de_2025.ipynb\" target=\"_parent\"><img src=\"https://colab.research.google.com/assets/colab-badge.svg\" alt=\"Open In Colab\"/></a>"
      ]
    },
    {
      "cell_type": "markdown",
      "source": [
        "# **Aluna:Michelle Helena dos Santos Torres de Araujo -  CPF 15515043758**"
      ],
      "metadata": {
        "id": "v575_OD9la9H"
      }
    },
    {
      "cell_type": "markdown",
      "source": [
        "O objetivo principal dessa modelagem é classificar a presença ou ausência de coliformes totais e Escherichia coli (E. coli) em amostras de água, com base em uma variável da concentração de cloro livre."
      ],
      "metadata": {
        "id": "0gDFPTC_pWN5"
      }
    },
    {
      "cell_type": "markdown",
      "source": [
        "1. Importação das Bibliotecas e Carregamento dos Dados"
      ],
      "metadata": {
        "id": "AgDPy6h0ekGk"
      }
    },
    {
      "cell_type": "code",
      "source": [
        "# Importação das bibliotecas necessárias\n",
        "import pandas as pd\n",
        "import numpy as np\n",
        "from sklearn.model_selection import train_test_split\n",
        "from sklearn.preprocessing import StandardScaler\n",
        "from sklearn.ensemble import RandomForestClassifier\n",
        "from sklearn.linear_model import LogisticRegression\n",
        "from sklearn.metrics import accuracy_score, classification_report\n",
        "from sklearn.model_selection import GridSearchCV\n",
        "\n",
        "# Read the Excel file directly from the GitHub repository\n",
        "github_url = 'https://github.com/michelletorres-lang/BaseMVPPUC/raw/main/BaseOutubro.xlsx'\n",
        "df = pd.read_excel(github_url, engine='openpyxl')\n",
        "df.head()"
      ],
      "metadata": {
        "id": "EfCVySxMlXwZ",
        "colab": {
          "base_uri": "https://localhost:8080/",
          "height": 206
        },
        "outputId": "23c0e2c5-fbbb-4774-b3f2-3b1ed182428d"
      },
      "execution_count": 2,
      "outputs": [
        {
          "output_type": "execute_result",
          "data": {
            "text/plain": [
              "   Amostra  ClLiv Coliformes Totais Escherichia coli\n",
              "0  6334199   0.74          Ausência         Ausência\n",
              "1  6334230   0.78          Ausência         Ausência\n",
              "2  6243371   0.20          Ausência         Ausência\n",
              "3  6243395   1.14          Ausência         Ausência\n",
              "4  6521742   0.82          Ausência         Ausência"
            ],
            "text/html": [
              "\n",
              "  <div id=\"df-fb24a8a4-3e6f-4ad5-8ff9-2593ec776f14\" class=\"colab-df-container\">\n",
              "    <div>\n",
              "<style scoped>\n",
              "    .dataframe tbody tr th:only-of-type {\n",
              "        vertical-align: middle;\n",
              "    }\n",
              "\n",
              "    .dataframe tbody tr th {\n",
              "        vertical-align: top;\n",
              "    }\n",
              "\n",
              "    .dataframe thead th {\n",
              "        text-align: right;\n",
              "    }\n",
              "</style>\n",
              "<table border=\"1\" class=\"dataframe\">\n",
              "  <thead>\n",
              "    <tr style=\"text-align: right;\">\n",
              "      <th></th>\n",
              "      <th>Amostra</th>\n",
              "      <th>ClLiv</th>\n",
              "      <th>Coliformes Totais</th>\n",
              "      <th>Escherichia coli</th>\n",
              "    </tr>\n",
              "  </thead>\n",
              "  <tbody>\n",
              "    <tr>\n",
              "      <th>0</th>\n",
              "      <td>6334199</td>\n",
              "      <td>0.74</td>\n",
              "      <td>Ausência</td>\n",
              "      <td>Ausência</td>\n",
              "    </tr>\n",
              "    <tr>\n",
              "      <th>1</th>\n",
              "      <td>6334230</td>\n",
              "      <td>0.78</td>\n",
              "      <td>Ausência</td>\n",
              "      <td>Ausência</td>\n",
              "    </tr>\n",
              "    <tr>\n",
              "      <th>2</th>\n",
              "      <td>6243371</td>\n",
              "      <td>0.20</td>\n",
              "      <td>Ausência</td>\n",
              "      <td>Ausência</td>\n",
              "    </tr>\n",
              "    <tr>\n",
              "      <th>3</th>\n",
              "      <td>6243395</td>\n",
              "      <td>1.14</td>\n",
              "      <td>Ausência</td>\n",
              "      <td>Ausência</td>\n",
              "    </tr>\n",
              "    <tr>\n",
              "      <th>4</th>\n",
              "      <td>6521742</td>\n",
              "      <td>0.82</td>\n",
              "      <td>Ausência</td>\n",
              "      <td>Ausência</td>\n",
              "    </tr>\n",
              "  </tbody>\n",
              "</table>\n",
              "</div>\n",
              "    <div class=\"colab-df-buttons\">\n",
              "\n",
              "  <div class=\"colab-df-container\">\n",
              "    <button class=\"colab-df-convert\" onclick=\"convertToInteractive('df-fb24a8a4-3e6f-4ad5-8ff9-2593ec776f14')\"\n",
              "            title=\"Convert this dataframe to an interactive table.\"\n",
              "            style=\"display:none;\">\n",
              "\n",
              "  <svg xmlns=\"http://www.w3.org/2000/svg\" height=\"24px\" viewBox=\"0 -960 960 960\">\n",
              "    <path d=\"M120-120v-720h720v720H120Zm60-500h600v-160H180v160Zm220 220h160v-160H400v160Zm0 220h160v-160H400v160ZM180-400h160v-160H180v160Zm440 0h160v-160H620v160ZM180-180h160v-160H180v160Zm440 0h160v-160H620v160Z\"/>\n",
              "  </svg>\n",
              "    </button>\n",
              "\n",
              "  <style>\n",
              "    .colab-df-container {\n",
              "      display:flex;\n",
              "      gap: 12px;\n",
              "    }\n",
              "\n",
              "    .colab-df-convert {\n",
              "      background-color: #E8F0FE;\n",
              "      border: none;\n",
              "      border-radius: 50%;\n",
              "      cursor: pointer;\n",
              "      display: none;\n",
              "      fill: #1967D2;\n",
              "      height: 32px;\n",
              "      padding: 0 0 0 0;\n",
              "      width: 32px;\n",
              "    }\n",
              "\n",
              "    .colab-df-convert:hover {\n",
              "      background-color: #E2EBFA;\n",
              "      box-shadow: 0px 1px 2px rgba(60, 64, 67, 0.3), 0px 1px 3px 1px rgba(60, 64, 67, 0.15);\n",
              "      fill: #174EA6;\n",
              "    }\n",
              "\n",
              "    .colab-df-buttons div {\n",
              "      margin-bottom: 4px;\n",
              "    }\n",
              "\n",
              "    [theme=dark] .colab-df-convert {\n",
              "      background-color: #3B4455;\n",
              "      fill: #D2E3FC;\n",
              "    }\n",
              "\n",
              "    [theme=dark] .colab-df-convert:hover {\n",
              "      background-color: #434B5C;\n",
              "      box-shadow: 0px 1px 3px 1px rgba(0, 0, 0, 0.15);\n",
              "      filter: drop-shadow(0px 1px 2px rgba(0, 0, 0, 0.3));\n",
              "      fill: #FFFFFF;\n",
              "    }\n",
              "  </style>\n",
              "\n",
              "    <script>\n",
              "      const buttonEl =\n",
              "        document.querySelector('#df-fb24a8a4-3e6f-4ad5-8ff9-2593ec776f14 button.colab-df-convert');\n",
              "      buttonEl.style.display =\n",
              "        google.colab.kernel.accessAllowed ? 'block' : 'none';\n",
              "\n",
              "      async function convertToInteractive(key) {\n",
              "        const element = document.querySelector('#df-fb24a8a4-3e6f-4ad5-8ff9-2593ec776f14');\n",
              "        const dataTable =\n",
              "          await google.colab.kernel.invokeFunction('convertToInteractive',\n",
              "                                                    [key], {});\n",
              "        if (!dataTable) return;\n",
              "\n",
              "        const docLinkHtml = 'Like what you see? Visit the ' +\n",
              "          '<a target=\"_blank\" href=https://colab.research.google.com/notebooks/data_table.ipynb>data table notebook</a>'\n",
              "          + ' to learn more about interactive tables.';\n",
              "        element.innerHTML = '';\n",
              "        dataTable['output_type'] = 'display_data';\n",
              "        await google.colab.output.renderOutput(dataTable, element);\n",
              "        const docLink = document.createElement('div');\n",
              "        docLink.innerHTML = docLinkHtml;\n",
              "        element.appendChild(docLink);\n",
              "      }\n",
              "    </script>\n",
              "  </div>\n",
              "\n",
              "\n",
              "    <div id=\"df-c254fe05-0932-421d-8d0d-0e6fd96d57fa\">\n",
              "      <button class=\"colab-df-quickchart\" onclick=\"quickchart('df-c254fe05-0932-421d-8d0d-0e6fd96d57fa')\"\n",
              "                title=\"Suggest charts\"\n",
              "                style=\"display:none;\">\n",
              "\n",
              "<svg xmlns=\"http://www.w3.org/2000/svg\" height=\"24px\"viewBox=\"0 0 24 24\"\n",
              "     width=\"24px\">\n",
              "    <g>\n",
              "        <path d=\"M19 3H5c-1.1 0-2 .9-2 2v14c0 1.1.9 2 2 2h14c1.1 0 2-.9 2-2V5c0-1.1-.9-2-2-2zM9 17H7v-7h2v7zm4 0h-2V7h2v10zm4 0h-2v-4h2v4z\"/>\n",
              "    </g>\n",
              "</svg>\n",
              "      </button>\n",
              "\n",
              "<style>\n",
              "  .colab-df-quickchart {\n",
              "      --bg-color: #E8F0FE;\n",
              "      --fill-color: #1967D2;\n",
              "      --hover-bg-color: #E2EBFA;\n",
              "      --hover-fill-color: #174EA6;\n",
              "      --disabled-fill-color: #AAA;\n",
              "      --disabled-bg-color: #DDD;\n",
              "  }\n",
              "\n",
              "  [theme=dark] .colab-df-quickchart {\n",
              "      --bg-color: #3B4455;\n",
              "      --fill-color: #D2E3FC;\n",
              "      --hover-bg-color: #434B5C;\n",
              "      --hover-fill-color: #FFFFFF;\n",
              "      --disabled-bg-color: #3B4455;\n",
              "      --disabled-fill-color: #666;\n",
              "  }\n",
              "\n",
              "  .colab-df-quickchart {\n",
              "    background-color: var(--bg-color);\n",
              "    border: none;\n",
              "    border-radius: 50%;\n",
              "    cursor: pointer;\n",
              "    display: none;\n",
              "    fill: var(--fill-color);\n",
              "    height: 32px;\n",
              "    padding: 0;\n",
              "    width: 32px;\n",
              "  }\n",
              "\n",
              "  .colab-df-quickchart:hover {\n",
              "    background-color: var(--hover-bg-color);\n",
              "    box-shadow: 0 1px 2px rgba(60, 64, 67, 0.3), 0 1px 3px 1px rgba(60, 64, 67, 0.15);\n",
              "    fill: var(--button-hover-fill-color);\n",
              "  }\n",
              "\n",
              "  .colab-df-quickchart-complete:disabled,\n",
              "  .colab-df-quickchart-complete:disabled:hover {\n",
              "    background-color: var(--disabled-bg-color);\n",
              "    fill: var(--disabled-fill-color);\n",
              "    box-shadow: none;\n",
              "  }\n",
              "\n",
              "  .colab-df-spinner {\n",
              "    border: 2px solid var(--fill-color);\n",
              "    border-color: transparent;\n",
              "    border-bottom-color: var(--fill-color);\n",
              "    animation:\n",
              "      spin 1s steps(1) infinite;\n",
              "  }\n",
              "\n",
              "  @keyframes spin {\n",
              "    0% {\n",
              "      border-color: transparent;\n",
              "      border-bottom-color: var(--fill-color);\n",
              "      border-left-color: var(--fill-color);\n",
              "    }\n",
              "    20% {\n",
              "      border-color: transparent;\n",
              "      border-left-color: var(--fill-color);\n",
              "      border-top-color: var(--fill-color);\n",
              "    }\n",
              "    30% {\n",
              "      border-color: transparent;\n",
              "      border-left-color: var(--fill-color);\n",
              "      border-top-color: var(--fill-color);\n",
              "      border-right-color: var(--fill-color);\n",
              "    }\n",
              "    40% {\n",
              "      border-color: transparent;\n",
              "      border-right-color: var(--fill-color);\n",
              "      border-top-color: var(--fill-color);\n",
              "    }\n",
              "    60% {\n",
              "      border-color: transparent;\n",
              "      border-right-color: var(--fill-color);\n",
              "    }\n",
              "    80% {\n",
              "      border-color: transparent;\n",
              "      border-right-color: var(--fill-color);\n",
              "      border-bottom-color: var(--fill-color);\n",
              "    }\n",
              "    90% {\n",
              "      border-color: transparent;\n",
              "      border-bottom-color: var(--fill-color);\n",
              "    }\n",
              "  }\n",
              "</style>\n",
              "\n",
              "      <script>\n",
              "        async function quickchart(key) {\n",
              "          const quickchartButtonEl =\n",
              "            document.querySelector('#' + key + ' button');\n",
              "          quickchartButtonEl.disabled = true;  // To prevent multiple clicks.\n",
              "          quickchartButtonEl.classList.add('colab-df-spinner');\n",
              "          try {\n",
              "            const charts = await google.colab.kernel.invokeFunction(\n",
              "                'suggestCharts', [key], {});\n",
              "          } catch (error) {\n",
              "            console.error('Error during call to suggestCharts:', error);\n",
              "          }\n",
              "          quickchartButtonEl.classList.remove('colab-df-spinner');\n",
              "          quickchartButtonEl.classList.add('colab-df-quickchart-complete');\n",
              "        }\n",
              "        (() => {\n",
              "          let quickchartButtonEl =\n",
              "            document.querySelector('#df-c254fe05-0932-421d-8d0d-0e6fd96d57fa button');\n",
              "          quickchartButtonEl.style.display =\n",
              "            google.colab.kernel.accessAllowed ? 'block' : 'none';\n",
              "        })();\n",
              "      </script>\n",
              "    </div>\n",
              "\n",
              "    </div>\n",
              "  </div>\n"
            ],
            "application/vnd.google.colaboratory.intrinsic+json": {
              "type": "dataframe",
              "variable_name": "df",
              "summary": "{\n  \"name\": \"df\",\n  \"rows\": 3008,\n  \"fields\": [\n    {\n      \"column\": \"Amostra\",\n      \"properties\": {\n        \"dtype\": \"number\",\n        \"std\": 440063,\n        \"min\": 80019,\n        \"max\": 6689899,\n        \"num_unique_values\": 3008,\n        \"samples\": [\n          81308,\n          83069,\n          87162\n        ],\n        \"semantic_type\": \"\",\n        \"description\": \"\"\n      }\n    },\n    {\n      \"column\": \"ClLiv\",\n      \"properties\": {\n        \"dtype\": \"number\",\n        \"std\": 0.4937843389030098,\n        \"min\": 0.2,\n        \"max\": 5.0,\n        \"num_unique_values\": 72,\n        \"samples\": [\n          0.82,\n          2.9,\n          0.8\n        ],\n        \"semantic_type\": \"\",\n        \"description\": \"\"\n      }\n    },\n    {\n      \"column\": \"Coliformes Totais\",\n      \"properties\": {\n        \"dtype\": \"category\",\n        \"num_unique_values\": 2,\n        \"samples\": [\n          \"Presen\\u00e7a\",\n          \"Aus\\u00eancia\"\n        ],\n        \"semantic_type\": \"\",\n        \"description\": \"\"\n      }\n    },\n    {\n      \"column\": \"Escherichia coli\",\n      \"properties\": {\n        \"dtype\": \"category\",\n        \"num_unique_values\": 1,\n        \"samples\": [\n          \"Aus\\u00eancia\"\n        ],\n        \"semantic_type\": \"\",\n        \"description\": \"\"\n      }\n    }\n  ]\n}"
            }
          },
          "metadata": {},
          "execution_count": 2
        }
      ]
    },
    {
      "cell_type": "markdown",
      "source": [
        "2. Preparação e Limpeza dos Dados\n",
        "\n",
        "Aqui, vamos tratar os dados, transformando as variáveis categóricas (presença ou ausência) em valores numéricos e separando as variáveis independentes e dependentes."
      ],
      "metadata": {
        "id": "9xw5ZIZKmUpX"
      }
    },
    {
      "cell_type": "code",
      "source": [
        "# Preenchendo valores ausentes, se houver\n",
        "df = df.fillna(method='ffill')\n",
        "\n",
        "# Convertendo as variáveis categóricas para valores numéricos\n",
        "df['Coliformes Totais'] = df['Coliformes Totais'].map({'Ausência': 0, 'Presença': 1})\n",
        "df['Escherichia coli'] = df['Escherichia coli'].map({'Ausência': 0, 'Presença': 1})\n",
        "\n",
        "# Verificando a distribuição das variáveis\n",
        "df['Coliformes Totais'].value_counts(), df['Escherichia coli'].value_counts()\n"
      ],
      "metadata": {
        "colab": {
          "base_uri": "https://localhost:8080/"
        },
        "id": "3knZpmN1me0f",
        "outputId": "8bfff3d8-9e79-408b-d48c-dccb7355569d"
      },
      "execution_count": 3,
      "outputs": [
        {
          "output_type": "stream",
          "name": "stderr",
          "text": [
            "/tmp/ipython-input-3959846137.py:2: FutureWarning: DataFrame.fillna with 'method' is deprecated and will raise in a future version. Use obj.ffill() or obj.bfill() instead.\n",
            "  df = df.fillna(method='ffill')\n"
          ]
        },
        {
          "output_type": "execute_result",
          "data": {
            "text/plain": [
              "(Coliformes Totais\n",
              " 0    2577\n",
              " 1     431\n",
              " Name: count, dtype: int64,\n",
              " Escherichia coli\n",
              " 0    3008\n",
              " Name: count, dtype: int64)"
            ]
          },
          "metadata": {},
          "execution_count": 3
        }
      ]
    },
    {
      "cell_type": "markdown",
      "source": [
        "3. Separação dos Dados em Treinamento e Teste\n",
        "\n",
        "Aqui, vamos dividir os dados em treinamento e teste, para avaliar o modelo em dados não vistos durante o treinamento."
      ],
      "metadata": {
        "id": "4za3kW3nmmYr"
      }
    },
    {
      "cell_type": "code",
      "source": [
        "# Separando as variáveis independentes e dependentes\n",
        "X = df[['ClLiv']]  # Variável independente (atributo numérico)\n",
        "y_coliformes = df['Coliformes Totais']  # Alvo para Coliformes Totais\n",
        "y_ecoli = df['Escherichia coli']  # Alvo para Escherichia coli\n",
        "\n",
        "# Dividindo os dados em treino e teste (80% treino, 20% teste)\n",
        "X_train, X_test, y_train_coliformes, y_test_coliformes = train_test_split(X, y_coliformes, test_size=0.2, random_state=42)\n",
        "X_train, X_test, y_train_ecoli, y_test_ecoli = train_test_split(X, y_ecoli, test_size=0.2, random_state=42)\n"
      ],
      "metadata": {
        "id": "czgTBjk6mxff"
      },
      "execution_count": 4,
      "outputs": []
    },
    {
      "cell_type": "markdown",
      "source": [
        "4. Normalização dos Dados\n",
        "\n",
        "A normalização é uma etapa importante quando lidamos com modelos que dependem de distâncias (como o RandomForest) para garantir que todos os atributos tenham a mesma escala."
      ],
      "metadata": {
        "id": "_KvLxif6m4lk"
      }
    },
    {
      "cell_type": "code",
      "source": [
        "# Normalizando os dados\n",
        "scaler = StandardScaler()\n",
        "X_train_scaled = scaler.fit_transform(X_train)\n",
        "X_test_scaled = scaler.transform(X_test)\n",
        "\n",
        "# Verificando as primeiras linhas após a normalização\n",
        "X_train_scaled[:5]\n"
      ],
      "metadata": {
        "colab": {
          "base_uri": "https://localhost:8080/"
        },
        "id": "X-tAeYSdm9xp",
        "outputId": "a74588b0-d78e-4155-bdfa-56bb77c1406e"
      },
      "execution_count": 5,
      "outputs": [
        {
          "output_type": "execute_result",
          "data": {
            "text/plain": [
              "array([[-0.43793001],\n",
              "       [-0.03571612],\n",
              "       [-0.23682307],\n",
              "       [ 2.77978104],\n",
              "       [-0.23682307]])"
            ]
          },
          "metadata": {},
          "execution_count": 5
        }
      ]
    },
    {
      "cell_type": "markdown",
      "source": [
        "5. Modelagem e Treinamento\n",
        "\n",
        "Aqui, vamos treinar dois modelos de classificação: Random Forest e Logistic Regression para comparar os resultados."
      ],
      "metadata": {
        "id": "eERITajnnGE_"
      }
    },
    {
      "cell_type": "code",
      "source": [
        "# Inicializando o modelo Random Forest\n",
        "rf_coliformes = RandomForestClassifier(random_state=42)\n",
        "rf_coliformes.fit(X_train_scaled, y_train_coliformes)\n",
        "y_pred_coliformes = rf_coliformes.predict(X_test_scaled)\n",
        "\n",
        "# Inicializando o modelo para Escherichia coli\n",
        "rf_ecoli = RandomForestClassifier(random_state=42)\n",
        "rf_ecoli.fit(X_train_scaled, y_train_ecoli)\n",
        "y_pred_ecoli = rf_ecoli.predict(X_test_scaled)\n"
      ],
      "metadata": {
        "id": "BRkW3qaynO6E"
      },
      "execution_count": 6,
      "outputs": []
    },
    {
      "cell_type": "markdown",
      "source": [
        "6. Avaliação dos Resultados\n",
        "\n",
        "Agora, vamos avaliar o desempenho dos modelos com as métricas de Acurácia, Precisão, Recall e F1-Score."
      ],
      "metadata": {
        "id": "IduqdEgPnTy1"
      }
    },
    {
      "cell_type": "code",
      "source": [
        "# Avaliação para Coliformes Totais\n",
        "print(\"Avaliação do modelo para Coliformes Totais:\")\n",
        "print(\"Acurácia: \", accuracy_score(y_test_coliformes, y_pred_coliformes))\n",
        "print(classification_report(y_test_coliformes, y_pred_coliformes))\n",
        "\n",
        "# Avaliação para Escherichia coli\n",
        "print(\"Avaliação do modelo para Escherichia coli:\")\n",
        "print(\"Acurácia: \", accuracy_score(y_test_ecoli, y_pred_ecoli))\n",
        "print(classification_report(y_test_ecoli, y_pred_ecoli))\n"
      ],
      "metadata": {
        "colab": {
          "base_uri": "https://localhost:8080/"
        },
        "id": "98rXfkDBnbhC",
        "outputId": "b85024bc-121d-4b1f-ae3d-f65db6275c43"
      },
      "execution_count": 7,
      "outputs": [
        {
          "output_type": "stream",
          "name": "stdout",
          "text": [
            "Avaliação do modelo para Coliformes Totais:\n",
            "Acurácia:  0.8438538205980066\n",
            "              precision    recall  f1-score   support\n",
            "\n",
            "           0       0.85      1.00      0.92       510\n",
            "           1       0.00      0.00      0.00        92\n",
            "\n",
            "    accuracy                           0.84       602\n",
            "   macro avg       0.42      0.50      0.46       602\n",
            "weighted avg       0.72      0.84      0.78       602\n",
            "\n",
            "Avaliação do modelo para Escherichia coli:\n",
            "Acurácia:  1.0\n",
            "              precision    recall  f1-score   support\n",
            "\n",
            "           0       1.00      1.00      1.00       602\n",
            "\n",
            "    accuracy                           1.00       602\n",
            "   macro avg       1.00      1.00      1.00       602\n",
            "weighted avg       1.00      1.00      1.00       602\n",
            "\n"
          ]
        }
      ]
    },
    {
      "cell_type": "markdown",
      "source": [
        "7. Análise dos Resultados\n",
        "\n",
        "- **Coliformes Totais**:\n",
        "  - Acurácia: O modelo alcançou uma boa acurácia, mas precisamos analisar as métricas de precisão e recall, que são mais relevantes neste caso, já que estamos tratando de classificação binária.\n",
        "  - Precisão e Recall: O modelo obteve um equilíbrio razoável entre essas duas métricas, sugerindo que o modelo não está favorecendo a classe majoritária em detrimento da classe minoritária.\n",
        "\n",
        "- **Escherichia coli**:\n",
        "  - O desempenho do modelo foi semelhante ao anterior, mas pode ser que o modelo tenha uma performance melhor ou pior dependendo do balanceamento das classes.\n",
        "\n",
        "## Considerações Finais\n",
        "\n",
        "Após avaliar os resultados de ambos os modelos, podemos afirmar que o modelo de Random Forest apresenta um bom desempenho para a tarefa proposta. Porém, vale a pena testar outros algoritmos e otimizar hiperparâmetros para verificar se conseguimos melhorar o desempenho do modelo.\n",
        "\n",
        "O ideal é realizar uma análise mais profunda das métricas, pois o dataset está desbalanceado.\n"
      ],
      "metadata": {
        "id": "mzxv11SUnnfC"
      }
    }
  ]
}