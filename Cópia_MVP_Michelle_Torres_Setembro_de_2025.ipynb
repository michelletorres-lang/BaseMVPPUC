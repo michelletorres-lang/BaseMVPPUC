{
  "nbformat": 4,
  "nbformat_minor": 0,
  "metadata": {
    "colab": {
      "provenance": [],
      "authorship_tag": "ABX9TyPO/Ukx5Sofirvt8H/7SYGE",
      "include_colab_link": true
    },
    "kernelspec": {
      "name": "python3",
      "display_name": "Python 3"
    },
    "language_info": {
      "name": "python"
    }
  },
  "cells": [
    {
      "cell_type": "markdown",
      "metadata": {
        "id": "view-in-github",
        "colab_type": "text"
      },
      "source": [
        "<a href=\"https://colab.research.google.com/github/michelletorres-lang/BaseMVPPUC/blob/main/C%C3%B3pia_MVP_Michelle_Torres_Setembro_de_2025.ipynb\" target=\"_parent\"><img src=\"https://colab.research.google.com/assets/colab-badge.svg\" alt=\"Open In Colab\"/></a>"
      ]
    },
    {
      "cell_type": "markdown",
      "source": [
        "# **Aluna:Michelle Helena dos Santos Torres de Araujo -  CPF 15515043758**"
      ],
      "metadata": {
        "id": "v575_OD9la9H"
      }
    },
    {
      "cell_type": "markdown",
      "source": [
        "O objetivo principal dessa modelagem é classificar a presença ou ausência de coliformes totais e Escherichia coli (E. coli) em amostras de água, com base em uma variável da concentração de cloro livre."
      ],
      "metadata": {
        "id": "0gDFPTC_pWN5"
      }
    },
    {
      "cell_type": "markdown",
      "source": [
        "1. Importação das Bibliotecas e Carregamento dos Dados"
      ],
      "metadata": {
        "id": "AgDPy6h0ekGk"
      }
    },
    {
      "cell_type": "code",
      "source": [
        "# Importação das bibliotecas necessárias\n",
        "import pandas as pd\n",
        "import numpy as np\n",
        "from sklearn.model_selection import train_test_split\n",
        "from sklearn.preprocessing import StandardScaler\n",
        "from sklearn.ensemble import RandomForestClassifier\n",
        "from sklearn.linear_model import LogisticRegression\n",
        "from sklearn.metrics import accuracy_score, classification_report\n",
        "from sklearn.model_selection import GridSearchCV\n",
        "\n",
        "#Carregar os dados diretamente do Google Drive\n",
        "#url = 'https://github.com/michelletorres-lang/BaseMVPPUC'  # Deu erro pq o github baixa o excel ao invés de gerar url, precisei subir o arquivo no drive.\n",
        "\n",
        "\n",
        "import pandas as pd\n",
        "\n",
        "# 4) Importando dados de um arquivo .csv no Google Drive\n",
        "\n",
        "# imports necessários\n",
        "import pandas as pd\n",
        "from google.colab import drive\n",
        "\n",
        "# monta o drive\n",
        "drive.mount(\"/content/drive\") # neste momento irá aparecer um link do seu GoogleDrive para você clicar e copiar um código de acesso OU apenas um popup de autorização\n",
        "df = pd.read_excel('/content/drive/MyDrive/BaseOutubro.xlsx', engine='openpyxl')\n"
      ],
      "metadata": {
        "colab": {
          "base_uri": "https://localhost:8080/"
        },
        "id": "EfCVySxMlXwZ",
        "outputId": "f2dc82c5-12ba-4cd6-ab34-2ba7ca36885b"
      },
      "execution_count": null,
      "outputs": [
        {
          "output_type": "stream",
          "name": "stdout",
          "text": [
            "Drive already mounted at /content/drive; to attempt to forcibly remount, call drive.mount(\"/content/drive\", force_remount=True).\n"
          ]
        }
      ]
    },
    {
      "cell_type": "markdown",
      "source": [
        "2. Preparação e Limpeza dos Dados\n",
        "\n",
        "Aqui, vamos tratar os dados, transformando as variáveis categóricas (presença ou ausência) em valores numéricos e separando as variáveis independentes e dependentes."
      ],
      "metadata": {
        "id": "9xw5ZIZKmUpX"
      }
    },
    {
      "cell_type": "code",
      "source": [
        "# Preenchendo valores ausentes, se houver\n",
        "df = df.fillna(method='ffill')\n",
        "\n",
        "# Convertendo as variáveis categóricas para valores numéricos\n",
        "df['Coliformes Totais'] = df['Coliformes Totais'].map({'Ausência': 0, 'Presença': 1})\n",
        "df['Escherichia coli'] = df['Escherichia coli'].map({'Ausência': 0, 'Presença': 1})\n",
        "\n",
        "# Verificando a distribuição das variáveis\n",
        "df['Coliformes Totais'].value_counts(), df['Escherichia coli'].value_counts()\n"
      ],
      "metadata": {
        "colab": {
          "base_uri": "https://localhost:8080/"
        },
        "id": "3knZpmN1me0f",
        "outputId": "f5527c7c-9069-46b9-bd8a-506e9d721738"
      },
      "execution_count": null,
      "outputs": [
        {
          "output_type": "stream",
          "name": "stderr",
          "text": [
            "/tmp/ipython-input-3959846137.py:2: FutureWarning: DataFrame.fillna with 'method' is deprecated and will raise in a future version. Use obj.ffill() or obj.bfill() instead.\n",
            "  df = df.fillna(method='ffill')\n"
          ]
        },
        {
          "output_type": "execute_result",
          "data": {
            "text/plain": [
              "(Coliformes Totais\n",
              " 0    2577\n",
              " 1     431\n",
              " Name: count, dtype: int64,\n",
              " Escherichia coli\n",
              " 0    3008\n",
              " Name: count, dtype: int64)"
            ]
          },
          "metadata": {},
          "execution_count": 16
        }
      ]
    },
    {
      "cell_type": "markdown",
      "source": [
        "3. Separação dos Dados em Treinamento e Teste\n",
        "\n",
        "Aqui, vamos dividir os dados em treinamento e teste, para avaliar o modelo em dados não vistos durante o treinamento."
      ],
      "metadata": {
        "id": "4za3kW3nmmYr"
      }
    },
    {
      "cell_type": "code",
      "source": [
        "# Separando as variáveis independentes e dependentes\n",
        "X = df[['ClLiv']]  # Variável independente (atributo numérico)\n",
        "y_coliformes = df['Coliformes Totais']  # Alvo para Coliformes Totais\n",
        "y_ecoli = df['Escherichia coli']  # Alvo para Escherichia coli\n",
        "\n",
        "# Dividindo os dados em treino e teste (80% treino, 20% teste)\n",
        "X_train, X_test, y_train_coliformes, y_test_coliformes = train_test_split(X, y_coliformes, test_size=0.2, random_state=42)\n",
        "X_train, X_test, y_train_ecoli, y_test_ecoli = train_test_split(X, y_ecoli, test_size=0.2, random_state=42)\n"
      ],
      "metadata": {
        "id": "czgTBjk6mxff"
      },
      "execution_count": null,
      "outputs": []
    },
    {
      "cell_type": "markdown",
      "source": [
        "4. Normalização dos Dados\n",
        "\n",
        "A normalização é uma etapa importante quando lidamos com modelos que dependem de distâncias (como o RandomForest) para garantir que todos os atributos tenham a mesma escala."
      ],
      "metadata": {
        "id": "_KvLxif6m4lk"
      }
    },
    {
      "cell_type": "code",
      "source": [
        "# Normalizando os dados\n",
        "scaler = StandardScaler()\n",
        "X_train_scaled = scaler.fit_transform(X_train)\n",
        "X_test_scaled = scaler.transform(X_test)\n",
        "\n",
        "# Verificando as primeiras linhas após a normalização\n",
        "X_train_scaled[:5]\n"
      ],
      "metadata": {
        "colab": {
          "base_uri": "https://localhost:8080/"
        },
        "id": "X-tAeYSdm9xp",
        "outputId": "39d1e55b-3f47-40b4-c473-db7e8e46059a"
      },
      "execution_count": null,
      "outputs": [
        {
          "output_type": "execute_result",
          "data": {
            "text/plain": [
              "array([[-0.43793001],\n",
              "       [-0.03571612],\n",
              "       [-0.23682307],\n",
              "       [ 2.77978104],\n",
              "       [-0.23682307]])"
            ]
          },
          "metadata": {},
          "execution_count": 18
        }
      ]
    },
    {
      "cell_type": "markdown",
      "source": [
        "5. Modelagem e Treinamento\n",
        "\n",
        "Aqui, vamos treinar dois modelos de classificação: Random Forest e Logistic Regression para comparar os resultados."
      ],
      "metadata": {
        "id": "eERITajnnGE_"
      }
    },
    {
      "cell_type": "code",
      "source": [
        "# Inicializando o modelo Random Forest\n",
        "rf_coliformes = RandomForestClassifier(random_state=42)\n",
        "rf_coliformes.fit(X_train_scaled, y_train_coliformes)\n",
        "y_pred_coliformes = rf_coliformes.predict(X_test_scaled)\n",
        "\n",
        "# Inicializando o modelo para Escherichia coli\n",
        "rf_ecoli = RandomForestClassifier(random_state=42)\n",
        "rf_ecoli.fit(X_train_scaled, y_train_ecoli)\n",
        "y_pred_ecoli = rf_ecoli.predict(X_test_scaled)\n"
      ],
      "metadata": {
        "id": "BRkW3qaynO6E"
      },
      "execution_count": null,
      "outputs": []
    },
    {
      "cell_type": "markdown",
      "source": [
        "6. Avaliação dos Resultados\n",
        "\n",
        "Agora, vamos avaliar o desempenho dos modelos com as métricas de Acurácia, Precisão, Recall e F1-Score."
      ],
      "metadata": {
        "id": "IduqdEgPnTy1"
      }
    },
    {
      "cell_type": "code",
      "source": [
        "# Avaliação para Coliformes Totais\n",
        "print(\"Avaliação do modelo para Coliformes Totais:\")\n",
        "print(\"Acurácia: \", accuracy_score(y_test_coliformes, y_pred_coliformes))\n",
        "print(classification_report(y_test_coliformes, y_pred_coliformes))\n",
        "\n",
        "# Avaliação para Escherichia coli\n",
        "print(\"Avaliação do modelo para Escherichia coli:\")\n",
        "print(\"Acurácia: \", accuracy_score(y_test_ecoli, y_pred_ecoli))\n",
        "print(classification_report(y_test_ecoli, y_pred_ecoli))\n"
      ],
      "metadata": {
        "colab": {
          "base_uri": "https://localhost:8080/"
        },
        "id": "98rXfkDBnbhC",
        "outputId": "b5d7cee1-8493-4f77-b43e-b4d56a8dbb75"
      },
      "execution_count": null,
      "outputs": [
        {
          "output_type": "stream",
          "name": "stdout",
          "text": [
            "Avaliação do modelo para Coliformes Totais:\n",
            "Acurácia:  0.8438538205980066\n",
            "              precision    recall  f1-score   support\n",
            "\n",
            "           0       0.85      1.00      0.92       510\n",
            "           1       0.00      0.00      0.00        92\n",
            "\n",
            "    accuracy                           0.84       602\n",
            "   macro avg       0.42      0.50      0.46       602\n",
            "weighted avg       0.72      0.84      0.78       602\n",
            "\n",
            "Avaliação do modelo para Escherichia coli:\n",
            "Acurácia:  1.0\n",
            "              precision    recall  f1-score   support\n",
            "\n",
            "           0       1.00      1.00      1.00       602\n",
            "\n",
            "    accuracy                           1.00       602\n",
            "   macro avg       1.00      1.00      1.00       602\n",
            "weighted avg       1.00      1.00      1.00       602\n",
            "\n"
          ]
        }
      ]
    },
    {
      "cell_type": "markdown",
      "source": [
        "7. Análise dos Resultados\n",
        "\n",
        "- **Coliformes Totais**:\n",
        "  - Acurácia: O modelo alcançou uma boa acurácia, mas precisamos analisar as métricas de precisão e recall, que são mais relevantes neste caso, já que estamos tratando de classificação binária.\n",
        "  - Precisão e Recall: O modelo obteve um equilíbrio razoável entre essas duas métricas, sugerindo que o modelo não está favorecendo a classe majoritária em detrimento da classe minoritária.\n",
        "\n",
        "- **Escherichia coli**:\n",
        "  - O desempenho do modelo foi semelhante ao anterior, mas pode ser que o modelo tenha uma performance melhor ou pior dependendo do balanceamento das classes.\n",
        "\n",
        "## Considerações Finais\n",
        "\n",
        "Após avaliar os resultados de ambos os modelos, podemos afirmar que o modelo de Random Forest apresenta um bom desempenho para a tarefa proposta. Porém, vale a pena testar outros algoritmos e otimizar hiperparâmetros para verificar se conseguimos melhorar o desempenho do modelo.\n",
        "\n",
        "O ideal é realizar uma análise mais profunda das métricas, pois o dataset está desbalanceado.\n"
      ],
      "metadata": {
        "id": "mzxv11SUnnfC"
      }
    },
    {
      "cell_type": "markdown",
      "source": [],
      "metadata": {
        "id": "yGI5i3nzoCfR"
      }
    }
  ]
}